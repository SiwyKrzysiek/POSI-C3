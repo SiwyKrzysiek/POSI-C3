{
 "cells": [
  {
   "cell_type": "markdown",
   "metadata": {
    "ExecuteTime": {
     "end_time": "2020-06-05T10:41:19.681950Z",
     "start_time": "2020-06-05T10:41:19.679422Z"
    }
   },
   "source": [
    "# Analiza pomiarów\n",
    "\n",
    "Analiza i wizualizacja danych zebranych przy uruchamianiu algorytmu Knutha oraz algorytmu ewolucyjnego z różnymi parametrami."
   ]
  },
  {
   "cell_type": "code",
   "execution_count": 48,
   "metadata": {
    "ExecuteTime": {
     "end_time": "2020-06-05T12:51:28.708316Z",
     "start_time": "2020-06-05T12:51:28.704581Z"
    }
   },
   "outputs": [],
   "source": [
    "import numpy as np\n",
    "import pandas as pd\n",
    "import plotly.express as px\n",
    "import plotly.graph_objects as go\n",
    "\n",
    "from pathlib import Path\n",
    "from glob import glob\n",
    "import re\n",
    "from collections import defaultdict\n",
    "\n",
    "from typing import Tuple, List, Dict"
   ]
  },
  {
   "cell_type": "markdown",
   "metadata": {},
   "source": [
    "## Pomocnicze funkcje"
   ]
  },
  {
   "cell_type": "code",
   "execution_count": 99,
   "metadata": {
    "ExecuteTime": {
     "end_time": "2020-06-05T14:25:45.584064Z",
     "start_time": "2020-06-05T14:25:45.574964Z"
    }
   },
   "outputs": [],
   "source": [
    "def read_data_files(directory: str) -> Tuple[List[str], Dict[str, List[str]]]:\n",
    "    files = glob(f'{directory}/*.csv')\n",
    "    \n",
    "    names = []\n",
    "    data = defaultdict(list)\n",
    "    for file_path in files:\n",
    "        names.append(Path(file_path).stem)\n",
    "        with open(file_path, 'r') as file:\n",
    "            line = ''\n",
    "            while(not re.match(r'Parametry', line)):\n",
    "                line = file.readline()\n",
    "\n",
    "            line = file.readline()\n",
    "            parts = line.split(';')\n",
    "            while len(parts) == 2:\n",
    "                    data[parts[0]].append(parts[1].strip())\n",
    "\n",
    "                    line = file.readline()\n",
    "                    parts = line.split(';')\n",
    "\n",
    "            while(not re.match(r'Wyniki', line)):\n",
    "                    line = file.readline()\n",
    "\n",
    "            line = file.readline()\n",
    "            parts = line.split(';')\n",
    "            while len(parts) == 2:\n",
    "                data[parts[0]].append(parts[1].strip())\n",
    "\n",
    "                line = file.readline()\n",
    "                parts = line.split(';')\n",
    "    \n",
    "    tmp = data['Najmniejsza liczba generacji']\n",
    "    data['Najmniejsza liczba generacji'] = data['Największa liczba generacji']\n",
    "    data['Największa liczba generacji'] = tmp\n",
    "    \n",
    "    return names, data"
   ]
  },
  {
   "cell_type": "code",
   "execution_count": 100,
   "metadata": {
    "ExecuteTime": {
     "end_time": "2020-06-05T14:25:50.400728Z",
     "start_time": "2020-06-05T14:25:50.395225Z"
    }
   },
   "outputs": [],
   "source": [
    "def read_data_files_to_df(directory: str, index: str = None) -> pd.DataFrame:\n",
    "    index_name = Path(directory).stem\n",
    "    names, data = read_data_files(directory)\n",
    "    \n",
    "    df = pd.DataFrame(data)\n",
    "    if (index):\n",
    "        df.set_index(index)\n",
    "    else:\n",
    "        df.index = pd.Index(names, name=index_name)\n",
    "    \n",
    "    df = df.astype(\n",
    "        {'Liczba symulacji': int, \n",
    "         'Wielkość populacji': int, \n",
    "         'Procent osobników używanych do reprodukcji': int,\n",
    "         'Prawdopodobieństwo krzyżowania': float,\n",
    "         'Prawdopodobieństwo mutacji': float,\n",
    "         'Makymalna liczba pokoleń': int,\n",
    "         'Średnia liczba populacji': float,\n",
    "         'Liczba zabitych populacji': int,\n",
    "         'Najmniejsza liczba generacji': int,\n",
    "         'Największa liczba generacji': int\n",
    "        })\n",
    "    \n",
    "    return df"
   ]
  },
  {
   "cell_type": "markdown",
   "metadata": {
    "heading_collapsed": true
   },
   "source": [
    "## Algorytm Knutha"
   ]
  },
  {
   "cell_type": "code",
   "execution_count": 53,
   "metadata": {
    "ExecuteTime": {
     "end_time": "2020-06-05T12:56:08.543940Z",
     "start_time": "2020-06-05T12:56:08.541532Z"
    },
    "hidden": true
   },
   "outputs": [],
   "source": [
    "# TODO: Jakaś prosta analiza jedych wyników"
   ]
  },
  {
   "cell_type": "markdown",
   "metadata": {},
   "source": [
    "## Algorytm gentyczny\n",
    "\n",
    "Analizy wyników dla różnych parametrów."
   ]
  },
  {
   "cell_type": "code",
   "execution_count": 80,
   "metadata": {
    "ExecuteTime": {
     "end_time": "2020-06-05T13:55:22.106385Z",
     "start_time": "2020-06-05T13:55:22.103834Z"
    }
   },
   "outputs": [],
   "source": [
    "base_path = 'Wyniki/Algorytm_ewolucyjny/Pojedyncze_zmiany'"
   ]
  },
  {
   "cell_type": "markdown",
   "metadata": {
    "ExecuteTime": {
     "end_time": "2020-06-05T11:40:05.032347Z",
     "start_time": "2020-06-05T11:40:05.029014Z"
    }
   },
   "source": [
    "### Metoda selekcji"
   ]
  },
  {
   "cell_type": "code",
   "execution_count": 101,
   "metadata": {
    "ExecuteTime": {
     "end_time": "2020-06-05T14:25:53.159479Z",
     "start_time": "2020-06-05T14:25:53.142227Z"
    }
   },
   "outputs": [
    {
     "data": {
      "text/html": [
       "<div>\n",
       "<style scoped>\n",
       "    .dataframe tbody tr th:only-of-type {\n",
       "        vertical-align: middle;\n",
       "    }\n",
       "\n",
       "    .dataframe tbody tr th {\n",
       "        vertical-align: top;\n",
       "    }\n",
       "\n",
       "    .dataframe thead th {\n",
       "        text-align: right;\n",
       "    }\n",
       "</style>\n",
       "<table border=\"1\" class=\"dataframe\">\n",
       "  <thead>\n",
       "    <tr style=\"text-align: right;\">\n",
       "      <th></th>\n",
       "      <th>Makymalna liczba pokoleń</th>\n",
       "      <th>Średnia liczba populacji</th>\n",
       "      <th>Liczba zabitych populacji</th>\n",
       "      <th>Najmniejsza liczba generacji</th>\n",
       "      <th>Największa liczba generacji</th>\n",
       "    </tr>\n",
       "    <tr>\n",
       "      <th>metoda_selekcji</th>\n",
       "      <th></th>\n",
       "      <th></th>\n",
       "      <th></th>\n",
       "      <th></th>\n",
       "      <th></th>\n",
       "    </tr>\n",
       "  </thead>\n",
       "  <tbody>\n",
       "    <tr>\n",
       "      <th>ruletka</th>\n",
       "      <td>13</td>\n",
       "      <td>5.79</td>\n",
       "      <td>4</td>\n",
       "      <td>3</td>\n",
       "      <td>13</td>\n",
       "    </tr>\n",
       "    <tr>\n",
       "      <th>prosta</th>\n",
       "      <td>13</td>\n",
       "      <td>5.07</td>\n",
       "      <td>1</td>\n",
       "      <td>1</td>\n",
       "      <td>13</td>\n",
       "    </tr>\n",
       "    <tr>\n",
       "      <th>losowa</th>\n",
       "      <td>13</td>\n",
       "      <td>8.04</td>\n",
       "      <td>32</td>\n",
       "      <td>1</td>\n",
       "      <td>13</td>\n",
       "    </tr>\n",
       "    <tr>\n",
       "      <th>turniej</th>\n",
       "      <td>13</td>\n",
       "      <td>5.84</td>\n",
       "      <td>10</td>\n",
       "      <td>3</td>\n",
       "      <td>13</td>\n",
       "    </tr>\n",
       "  </tbody>\n",
       "</table>\n",
       "</div>"
      ],
      "text/plain": [
       "                 Makymalna liczba pokoleń  Średnia liczba populacji  \\\n",
       "metoda_selekcji                                                       \n",
       "ruletka                                13                      5.79   \n",
       "prosta                                 13                      5.07   \n",
       "losowa                                 13                      8.04   \n",
       "turniej                                13                      5.84   \n",
       "\n",
       "                 Liczba zabitych populacji  Najmniejsza liczba generacji  \\\n",
       "metoda_selekcji                                                            \n",
       "ruletka                                  4                             3   \n",
       "prosta                                   1                             1   \n",
       "losowa                                  32                             1   \n",
       "turniej                                 10                             3   \n",
       "\n",
       "                 Największa liczba generacji  \n",
       "metoda_selekcji                               \n",
       "ruletka                                   13  \n",
       "prosta                                    13  \n",
       "losowa                                    13  \n",
       "turniej                                   13  "
      ]
     },
     "execution_count": 101,
     "metadata": {},
     "output_type": "execute_result"
    }
   ],
   "source": [
    "df = read_data_files_to_df(f'{base_path}/metoda_selekcji')\n",
    "results_df = df.iloc[:, -5:]\n",
    "results_df"
   ]
  },
  {
   "cell_type": "code",
   "execution_count": 47,
   "metadata": {
    "ExecuteTime": {
     "end_time": "2020-06-05T12:48:51.870131Z",
     "start_time": "2020-06-05T12:48:51.861149Z"
    }
   },
   "outputs": [
    {
     "name": "stdout",
     "output_type": "stream",
     "text": [
      "Wyniki/Algorytm_ewolucyjny/Pojedyncze_zmiany/metoda_selekcji/ruletka.csv\n",
      "ruletka\n",
      "defaultdict(<class 'list'>, {'Powtarzanie kolorów w kodzie dozwolone': ['TAK'], 'Kod do odgadnięcia': ['LOSOWY'], 'Początkowa kombinacja': ['LOSOWA'], 'Liczba symulacji': ['100'], 'Wielkość populacji': ['400'], 'Procent osobników używanych do reprodukcji': ['100'], 'Metoda selekcji': ['Ruletka'], 'Prawdopodobieństwo krzyżowania': ['1'], 'Prawdopodobieństwo mutacji': ['0.4'], 'Makymalna liczba pokoleń': ['13'], 'Średnia liczba populacji': ['5.790'], 'Liczba zabitych populacji': ['4'], 'Najmniejsza liczba generacji': ['13'], 'Największa liczba generacji': ['3']})\n"
     ]
    }
   ],
   "source": [
    "path = r'Wyniki/Algorytm_ewolucyjny/Pojedyncze_zmiany/metoda_selekcji'\n",
    "files = glob(f'{path}/*.csv')\n",
    "\n",
    "# print(files)\n",
    "# print(Path(files[0]).stem)\n",
    "file = files[0]\n",
    "name = Path(file).stem\n",
    "print(file)\n",
    "print(name)\n",
    "\n",
    "with open(files[0], 'r') as file:\n",
    "    while(not re.match(r'Parametry', line)):\n",
    "        line = file.readline()\n",
    "        \n",
    "    data = defaultdict(list)\n",
    "    line = file.readline()\n",
    "    parts = line.split(';')\n",
    "    while len(parts) == 2:\n",
    "        data[parts[0]].append(parts[1].strip())\n",
    "        \n",
    "        line = file.readline()\n",
    "        parts = line.split(';')\n",
    "    \n",
    "    while(not re.match(r'Wyniki', line)):\n",
    "        line = file.readline()\n",
    "        \n",
    "    line = file.readline()\n",
    "    parts = line.split(';')\n",
    "    while len(parts) == 2:\n",
    "        data[parts[0]].append(parts[1].strip())\n",
    "        \n",
    "        line = file.readline()\n",
    "        parts = line.split(';')\n",
    "    print(data)"
   ]
  },
  {
   "cell_type": "code",
   "execution_count": null,
   "metadata": {},
   "outputs": [],
   "source": []
  }
 ],
 "metadata": {
  "kernelspec": {
   "display_name": "Python 3",
   "language": "python",
   "name": "python3"
  },
  "language_info": {
   "codemirror_mode": {
    "name": "ipython",
    "version": 3
   },
   "file_extension": ".py",
   "mimetype": "text/x-python",
   "name": "python",
   "nbconvert_exporter": "python",
   "pygments_lexer": "ipython3",
   "version": "3.7.5"
  },
  "toc": {
   "base_numbering": 1,
   "nav_menu": {},
   "number_sections": false,
   "sideBar": true,
   "skip_h1_title": false,
   "title_cell": "Table of Contents",
   "title_sidebar": "Contents",
   "toc_cell": false,
   "toc_position": {},
   "toc_section_display": true,
   "toc_window_display": false
  },
  "varInspector": {
   "cols": {
    "lenName": 16,
    "lenType": 16,
    "lenVar": 40
   },
   "kernels_config": {
    "python": {
     "delete_cmd_postfix": "",
     "delete_cmd_prefix": "del ",
     "library": "var_list.py",
     "varRefreshCmd": "print(var_dic_list())"
    },
    "r": {
     "delete_cmd_postfix": ") ",
     "delete_cmd_prefix": "rm(",
     "library": "var_list.r",
     "varRefreshCmd": "cat(var_dic_list()) "
    }
   },
   "types_to_exclude": [
    "module",
    "function",
    "builtin_function_or_method",
    "instance",
    "_Feature"
   ],
   "window_display": false
  }
 },
 "nbformat": 4,
 "nbformat_minor": 2
}
